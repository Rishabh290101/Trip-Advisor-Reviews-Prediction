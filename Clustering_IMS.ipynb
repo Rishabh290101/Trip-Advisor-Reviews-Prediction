{
 "cells": [
  {
   "cell_type": "code",
   "execution_count": 1,
   "metadata": {},
   "outputs": [],
   "source": [
    "import pandas as pd\n",
    "import seaborn as sns\n",
    "import matplotlib.pyplot as plt\n",
    "%matplotlib inline\n"
   ]
  },
  {
   "cell_type": "code",
   "execution_count": 2,
   "metadata": {
    "scrolled": true
   },
   "outputs": [
    {
     "data": {
      "text/html": [
       "<div>\n",
       "<style scoped>\n",
       "    .dataframe tbody tr th:only-of-type {\n",
       "        vertical-align: middle;\n",
       "    }\n",
       "\n",
       "    .dataframe tbody tr th {\n",
       "        vertical-align: top;\n",
       "    }\n",
       "\n",
       "    .dataframe thead th {\n",
       "        text-align: right;\n",
       "    }\n",
       "</style>\n",
       "<table border=\"1\" class=\"dataframe\">\n",
       "  <thead>\n",
       "    <tr style=\"text-align: right;\">\n",
       "      <th></th>\n",
       "      <th>art_galleries</th>\n",
       "      <th>dance_clubs</th>\n",
       "      <th>juice_bars</th>\n",
       "      <th>restaurants</th>\n",
       "      <th>museums</th>\n",
       "      <th>resorts</th>\n",
       "      <th>parks</th>\n",
       "      <th>beaches</th>\n",
       "      <th>theaters</th>\n",
       "      <th>religious_institutions</th>\n",
       "    </tr>\n",
       "    <tr>\n",
       "      <th>User ID</th>\n",
       "      <th></th>\n",
       "      <th></th>\n",
       "      <th></th>\n",
       "      <th></th>\n",
       "      <th></th>\n",
       "      <th></th>\n",
       "      <th></th>\n",
       "      <th></th>\n",
       "      <th></th>\n",
       "      <th></th>\n",
       "    </tr>\n",
       "  </thead>\n",
       "  <tbody>\n",
       "    <tr>\n",
       "      <th>User 1</th>\n",
       "      <td>0.93</td>\n",
       "      <td>1.8</td>\n",
       "      <td>2.29</td>\n",
       "      <td>0.62</td>\n",
       "      <td>0.80</td>\n",
       "      <td>2.42</td>\n",
       "      <td>3.19</td>\n",
       "      <td>2.79</td>\n",
       "      <td>1.82</td>\n",
       "      <td>2.42</td>\n",
       "    </tr>\n",
       "    <tr>\n",
       "      <th>User 2</th>\n",
       "      <td>1.02</td>\n",
       "      <td>2.2</td>\n",
       "      <td>2.66</td>\n",
       "      <td>0.64</td>\n",
       "      <td>1.42</td>\n",
       "      <td>3.18</td>\n",
       "      <td>3.21</td>\n",
       "      <td>2.63</td>\n",
       "      <td>1.86</td>\n",
       "      <td>2.32</td>\n",
       "    </tr>\n",
       "    <tr>\n",
       "      <th>User 3</th>\n",
       "      <td>1.22</td>\n",
       "      <td>0.8</td>\n",
       "      <td>0.54</td>\n",
       "      <td>0.53</td>\n",
       "      <td>0.24</td>\n",
       "      <td>1.54</td>\n",
       "      <td>3.18</td>\n",
       "      <td>2.80</td>\n",
       "      <td>1.31</td>\n",
       "      <td>2.50</td>\n",
       "    </tr>\n",
       "    <tr>\n",
       "      <th>User 4</th>\n",
       "      <td>0.45</td>\n",
       "      <td>1.8</td>\n",
       "      <td>0.29</td>\n",
       "      <td>0.57</td>\n",
       "      <td>0.46</td>\n",
       "      <td>1.52</td>\n",
       "      <td>3.18</td>\n",
       "      <td>2.96</td>\n",
       "      <td>1.57</td>\n",
       "      <td>2.86</td>\n",
       "    </tr>\n",
       "    <tr>\n",
       "      <th>User 5</th>\n",
       "      <td>0.51</td>\n",
       "      <td>1.2</td>\n",
       "      <td>1.18</td>\n",
       "      <td>0.57</td>\n",
       "      <td>1.54</td>\n",
       "      <td>2.02</td>\n",
       "      <td>3.18</td>\n",
       "      <td>2.78</td>\n",
       "      <td>1.18</td>\n",
       "      <td>2.54</td>\n",
       "    </tr>\n",
       "  </tbody>\n",
       "</table>\n",
       "</div>"
      ],
      "text/plain": [
       "         art_galleries  dance_clubs  juice_bars  restaurants  museums  \\\n",
       "User ID                                                                 \n",
       "User 1            0.93          1.8        2.29         0.62     0.80   \n",
       "User 2            1.02          2.2        2.66         0.64     1.42   \n",
       "User 3            1.22          0.8        0.54         0.53     0.24   \n",
       "User 4            0.45          1.8        0.29         0.57     0.46   \n",
       "User 5            0.51          1.2        1.18         0.57     1.54   \n",
       "\n",
       "         resorts  parks  beaches  theaters  religious_institutions  \n",
       "User ID                                                             \n",
       "User 1      2.42   3.19     2.79      1.82                    2.42  \n",
       "User 2      3.18   3.21     2.63      1.86                    2.32  \n",
       "User 3      1.54   3.18     2.80      1.31                    2.50  \n",
       "User 4      1.52   3.18     2.96      1.57                    2.86  \n",
       "User 5      2.02   3.18     2.78      1.18                    2.54  "
      ]
     },
     "execution_count": 2,
     "metadata": {},
     "output_type": "execute_result"
    }
   ],
   "source": [
    "data = pd.read_csv(r'C:\\Users\\risha\\case_study\\tripadvisor_review.csv',index_col='User ID')\n",
    "data.columns = [\"art_galleries\",\"dance_clubs\",\"juice_bars\",\"restaurants\",\"museums\",\"resorts\",\"parks\",\"beaches\",\"theaters\",\"religious_institutions\"]\n",
    "data.head()"
   ]
  },
  {
   "cell_type": "code",
   "execution_count": 3,
   "metadata": {},
   "outputs": [
    {
     "data": {
      "text/plain": [
       "(980, 10)"
      ]
     },
     "execution_count": 3,
     "metadata": {},
     "output_type": "execute_result"
    }
   ],
   "source": [
    "data.shape"
   ]
  },
  {
   "cell_type": "code",
   "execution_count": 4,
   "metadata": {},
   "outputs": [
    {
     "data": {
      "text/plain": [
       "<AxesSubplot:>"
      ]
     },
     "execution_count": 4,
     "metadata": {},
     "output_type": "execute_result"
    },
    {
     "data": {
      "image/png": "[encoded data removed]",
      "text/plain": [
       "<Figure size 1080x576 with 1 Axes>"
      ]
     },
     "metadata": {
      "needs_background": "light"
     },
     "output_type": "display_data"
    }
   ],
   "source": [
    "plt.figure(figsize=(15,8))\n",
    "data.boxplot()"
   ]
  },
  {
   "cell_type": "code",
   "execution_count": 5,
   "metadata": {},
   "outputs": [
    {
     "name": "stderr",
     "output_type": "stream",
     "text": [
      "C:\\Users\\risha\\anaconda3\\lib\\site-packages\\seaborn\\_decorators.py:36: FutureWarning: Pass the following variable as a keyword arg: x. From version 0.12, the only valid positional argument will be `data`, and passing other arguments without an explicit keyword will result in an error or misinterpretation.\n",
      "  warnings.warn(\n"
     ]
    },
    {
     "data": {
      "text/plain": [
       "<AxesSubplot:xlabel='art_galleries'>"
      ]
     },
     "execution_count": 5,
     "metadata": {},
     "output_type": "execute_result"
    },
    {
     "data": {
      "image/png": "[encoded data removed]",
      "text/plain": [
       "<Figure size 432x288 with 1 Axes>"
      ]
     },
     "metadata": {
      "needs_background": "light"
     },
     "output_type": "display_data"
    }
   ],
   "source": [
    "sns.boxplot(data[\"art_galleries\"])"
   ]
  },
  {
   "cell_type": "code",
   "execution_count": 6,
   "metadata": {},
   "outputs": [
    {
     "data": {
      "text/plain": [
       "art_galleries             0.893194\n",
       "dance_clubs               1.352612\n",
       "juice_bars                1.013306\n",
       "restaurants               0.532500\n",
       "museums                   0.939735\n",
       "resorts                   1.842898\n",
       "parks                     3.180939\n",
       "beaches                   2.835061\n",
       "theaters                  1.569439\n",
       "religious_institutions    2.799224\n",
       "dtype: float64"
      ]
     },
     "execution_count": 6,
     "metadata": {},
     "output_type": "execute_result"
    }
   ],
   "source": [
    "data.mean()"
   ]
  },
  {
   "cell_type": "code",
   "execution_count": 7,
   "metadata": {},
   "outputs": [
    {
     "data": {
      "text/plain": [
       "<AxesSubplot:>"
      ]
     },
     "execution_count": 7,
     "metadata": {},
     "output_type": "execute_result"
    },
    {
     "data": {
      "image/png": "[encoded data removed]",
      "text/plain": [
       "<Figure size 432x288 with 1 Axes>"
      ]
     },
     "metadata": {
      "needs_background": "light"
     },
     "output_type": "display_data"
    }
   ],
   "source": [
    "data.mean().sort_values(ascending=True).plot.bar()"
   ]
  },
  {
   "cell_type": "code",
   "execution_count": 8,
   "metadata": {
    "scrolled": false
   },
   "outputs": [
    {
     "data": {
      "text/plain": [
       "<AxesSubplot:>"
      ]
     },
     "execution_count": 8,
     "metadata": {},
     "output_type": "execute_result"
    },
    {
     "data": {
      "image/png": "[encoded data removed]",
      "text/plain": [
       "<Figure size 432x288 with 1 Axes>"
      ]
     },
     "metadata": {
      "needs_background": "light"
     },
     "output_type": "display_data"
    }
   ],
   "source": [
    "data.restaurants.hist(bins=35)"
   ]
  },
  {
   "cell_type": "code",
   "execution_count": 9,
   "metadata": {
    "scrolled": true
   },
   "outputs": [
    {
     "data": {
      "text/plain": [
       "User ID\n",
       "User 979    1.213\n",
       "User 385    1.305\n",
       "User 324    1.341\n",
       "User 542    1.383\n",
       "User 190    1.389\n",
       "            ...  \n",
       "User 813    2.119\n",
       "User 796    2.130\n",
       "User 537    2.155\n",
       "User 248    2.225\n",
       "User 667    2.225\n",
       "Length: 980, dtype: float64"
      ]
     },
     "execution_count": 9,
     "metadata": {},
     "output_type": "execute_result"
    }
   ],
   "source": [
    "data.mean(axis=1).sort_values()"
   ]
  },
  {
   "cell_type": "code",
   "execution_count": 10,
   "metadata": {
    "scrolled": false
   },
   "outputs": [
    {
     "data": {
      "text/plain": [
       "<AxesSubplot:>"
      ]
     },
     "execution_count": 10,
     "metadata": {},
     "output_type": "execute_result"
    },
    {
     "data": {
      "image/png": "[encoded data removed]",
      "text/plain": [
       "<Figure size 432x288 with 1 Axes>"
      ]
     },
     "metadata": {
      "needs_background": "light"
     },
     "output_type": "display_data"
    }
   ],
   "source": [
    "data[data.index.isin(['User 979', 'User 385', 'User 324', 'User 542'])].T.plot.bar()"
   ]
  },
  {
   "cell_type": "code",
   "execution_count": 11,
   "metadata": {},
   "outputs": [
    {
     "name": "stderr",
     "output_type": "stream",
     "text": [
      "C:\\Users\\risha\\AppData\\Local\\Temp/ipykernel_10580/3502357704.py:1: FutureWarning: In a future version of pandas all arguments of DataFrame.drop except for the argument 'labels' will be keyword-only\n",
      "  data1 = data.drop(['parks', 'beaches', 'religious_institutions'],1)\n"
     ]
    },
    {
     "data": {
      "text/html": [
       "<div>\n",
       "<style scoped>\n",
       "    .dataframe tbody tr th:only-of-type {\n",
       "        vertical-align: middle;\n",
       "    }\n",
       "\n",
       "    .dataframe tbody tr th {\n",
       "        vertical-align: top;\n",
       "    }\n",
       "\n",
       "    .dataframe thead th {\n",
       "        text-align: right;\n",
       "    }\n",
       "</style>\n",
       "<table border=\"1\" class=\"dataframe\">\n",
       "  <thead>\n",
       "    <tr style=\"text-align: right;\">\n",
       "      <th></th>\n",
       "      <th>art_galleries</th>\n",
       "      <th>dance_clubs</th>\n",
       "      <th>juice_bars</th>\n",
       "      <th>restaurants</th>\n",
       "      <th>museums</th>\n",
       "      <th>resorts</th>\n",
       "      <th>theaters</th>\n",
       "    </tr>\n",
       "    <tr>\n",
       "      <th>User ID</th>\n",
       "      <th></th>\n",
       "      <th></th>\n",
       "      <th></th>\n",
       "      <th></th>\n",
       "      <th></th>\n",
       "      <th></th>\n",
       "      <th></th>\n",
       "    </tr>\n",
       "  </thead>\n",
       "  <tbody>\n",
       "    <tr>\n",
       "      <th>User 1</th>\n",
       "      <td>0.93</td>\n",
       "      <td>1.8</td>\n",
       "      <td>2.29</td>\n",
       "      <td>0.62</td>\n",
       "      <td>0.80</td>\n",
       "      <td>2.42</td>\n",
       "      <td>1.82</td>\n",
       "    </tr>\n",
       "    <tr>\n",
       "      <th>User 2</th>\n",
       "      <td>1.02</td>\n",
       "      <td>2.2</td>\n",
       "      <td>2.66</td>\n",
       "      <td>0.64</td>\n",
       "      <td>1.42</td>\n",
       "      <td>3.18</td>\n",
       "      <td>1.86</td>\n",
       "    </tr>\n",
       "    <tr>\n",
       "      <th>User 3</th>\n",
       "      <td>1.22</td>\n",
       "      <td>0.8</td>\n",
       "      <td>0.54</td>\n",
       "      <td>0.53</td>\n",
       "      <td>0.24</td>\n",
       "      <td>1.54</td>\n",
       "      <td>1.31</td>\n",
       "    </tr>\n",
       "    <tr>\n",
       "      <th>User 4</th>\n",
       "      <td>0.45</td>\n",
       "      <td>1.8</td>\n",
       "      <td>0.29</td>\n",
       "      <td>0.57</td>\n",
       "      <td>0.46</td>\n",
       "      <td>1.52</td>\n",
       "      <td>1.57</td>\n",
       "    </tr>\n",
       "    <tr>\n",
       "      <th>User 5</th>\n",
       "      <td>0.51</td>\n",
       "      <td>1.2</td>\n",
       "      <td>1.18</td>\n",
       "      <td>0.57</td>\n",
       "      <td>1.54</td>\n",
       "      <td>2.02</td>\n",
       "      <td>1.18</td>\n",
       "    </tr>\n",
       "  </tbody>\n",
       "</table>\n",
       "</div>"
      ],
      "text/plain": [
       "         art_galleries  dance_clubs  juice_bars  restaurants  museums  \\\n",
       "User ID                                                                 \n",
       "User 1            0.93          1.8        2.29         0.62     0.80   \n",
       "User 2            1.02          2.2        2.66         0.64     1.42   \n",
       "User 3            1.22          0.8        0.54         0.53     0.24   \n",
       "User 4            0.45          1.8        0.29         0.57     0.46   \n",
       "User 5            0.51          1.2        1.18         0.57     1.54   \n",
       "\n",
       "         resorts  theaters  \n",
       "User ID                     \n",
       "User 1      2.42      1.82  \n",
       "User 2      3.18      1.86  \n",
       "User 3      1.54      1.31  \n",
       "User 4      1.52      1.57  \n",
       "User 5      2.02      1.18  "
      ]
     },
     "execution_count": 11,
     "metadata": {},
     "output_type": "execute_result"
    }
   ],
   "source": [
    "data1 = data.drop(['parks', 'beaches', 'religious_institutions'],1)\n",
    "data1.head()"
   ]
  },
  {
   "cell_type": "code",
   "execution_count": 12,
   "metadata": {
    "scrolled": true
   },
   "outputs": [
    {
     "data": {
      "text/plain": [
       "KMeans(n_clusters=5)"
      ]
     },
     "execution_count": 12,
     "metadata": {},
     "output_type": "execute_result"
    }
   ],
   "source": [
    "from sklearn.cluster import KMeans\n",
    "\n",
    "km = KMeans(n_clusters=5)\n",
    "km.fit(data1)"
   ]
  },
  {
   "cell_type": "code",
   "execution_count": 13,
   "metadata": {},
   "outputs": [],
   "source": [
    "data2 = data1.copy()\n",
    "data2['cluster'] = km.predict(data1)"
   ]
  },
  {
   "cell_type": "code",
   "execution_count": 14,
   "metadata": {},
   "outputs": [
    {
     "data": {
      "text/html": [
       "<div>\n",
       "<style scoped>\n",
       "    .dataframe tbody tr th:only-of-type {\n",
       "        vertical-align: middle;\n",
       "    }\n",
       "\n",
       "    .dataframe tbody tr th {\n",
       "        vertical-align: top;\n",
       "    }\n",
       "\n",
       "    .dataframe thead th {\n",
       "        text-align: right;\n",
       "    }\n",
       "</style>\n",
       "<table border=\"1\" class=\"dataframe\">\n",
       "  <thead>\n",
       "    <tr style=\"text-align: right;\">\n",
       "      <th></th>\n",
       "      <th>art_galleries</th>\n",
       "      <th>dance_clubs</th>\n",
       "      <th>juice_bars</th>\n",
       "      <th>restaurants</th>\n",
       "      <th>museums</th>\n",
       "      <th>resorts</th>\n",
       "      <th>theaters</th>\n",
       "      <th>cluster</th>\n",
       "    </tr>\n",
       "    <tr>\n",
       "      <th>User ID</th>\n",
       "      <th></th>\n",
       "      <th></th>\n",
       "      <th></th>\n",
       "      <th></th>\n",
       "      <th></th>\n",
       "      <th></th>\n",
       "      <th></th>\n",
       "      <th></th>\n",
       "    </tr>\n",
       "  </thead>\n",
       "  <tbody>\n",
       "    <tr>\n",
       "      <th>User 1</th>\n",
       "      <td>0.93</td>\n",
       "      <td>1.8</td>\n",
       "      <td>2.29</td>\n",
       "      <td>0.62</td>\n",
       "      <td>0.80</td>\n",
       "      <td>2.42</td>\n",
       "      <td>1.82</td>\n",
       "      <td>0</td>\n",
       "    </tr>\n",
       "    <tr>\n",
       "      <th>User 2</th>\n",
       "      <td>1.02</td>\n",
       "      <td>2.2</td>\n",
       "      <td>2.66</td>\n",
       "      <td>0.64</td>\n",
       "      <td>1.42</td>\n",
       "      <td>3.18</td>\n",
       "      <td>1.86</td>\n",
       "      <td>0</td>\n",
       "    </tr>\n",
       "    <tr>\n",
       "      <th>User 3</th>\n",
       "      <td>1.22</td>\n",
       "      <td>0.8</td>\n",
       "      <td>0.54</td>\n",
       "      <td>0.53</td>\n",
       "      <td>0.24</td>\n",
       "      <td>1.54</td>\n",
       "      <td>1.31</td>\n",
       "      <td>1</td>\n",
       "    </tr>\n",
       "    <tr>\n",
       "      <th>User 4</th>\n",
       "      <td>0.45</td>\n",
       "      <td>1.8</td>\n",
       "      <td>0.29</td>\n",
       "      <td>0.57</td>\n",
       "      <td>0.46</td>\n",
       "      <td>1.52</td>\n",
       "      <td>1.57</td>\n",
       "      <td>1</td>\n",
       "    </tr>\n",
       "    <tr>\n",
       "      <th>User 5</th>\n",
       "      <td>0.51</td>\n",
       "      <td>1.2</td>\n",
       "      <td>1.18</td>\n",
       "      <td>0.57</td>\n",
       "      <td>1.54</td>\n",
       "      <td>2.02</td>\n",
       "      <td>1.18</td>\n",
       "      <td>2</td>\n",
       "    </tr>\n",
       "  </tbody>\n",
       "</table>\n",
       "</div>"
      ],
      "text/plain": [
       "         art_galleries  dance_clubs  juice_bars  restaurants  museums  \\\n",
       "User ID                                                                 \n",
       "User 1            0.93          1.8        2.29         0.62     0.80   \n",
       "User 2            1.02          2.2        2.66         0.64     1.42   \n",
       "User 3            1.22          0.8        0.54         0.53     0.24   \n",
       "User 4            0.45          1.8        0.29         0.57     0.46   \n",
       "User 5            0.51          1.2        1.18         0.57     1.54   \n",
       "\n",
       "         resorts  theaters  cluster  \n",
       "User ID                              \n",
       "User 1      2.42      1.82        0  \n",
       "User 2      3.18      1.86        0  \n",
       "User 3      1.54      1.31        1  \n",
       "User 4      1.52      1.57        1  \n",
       "User 5      2.02      1.18        2  "
      ]
     },
     "execution_count": 14,
     "metadata": {},
     "output_type": "execute_result"
    }
   ],
   "source": [
    "data2.head()"
   ]
  },
  {
   "cell_type": "code",
   "execution_count": 15,
   "metadata": {},
   "outputs": [
    {
     "data": {
      "text/plain": [
       "1    279\n",
       "4    193\n",
       "3    190\n",
       "0    159\n",
       "2    159\n",
       "Name: cluster, dtype: int64"
      ]
     },
     "execution_count": 15,
     "metadata": {},
     "output_type": "execute_result"
    }
   ],
   "source": [
    "data2.cluster.value_counts()"
   ]
  },
  {
   "cell_type": "code",
   "execution_count": 16,
   "metadata": {},
   "outputs": [
    {
     "data": {
      "text/plain": [
       "<AxesSubplot:xlabel='cluster'>"
      ]
     },
     "execution_count": 16,
     "metadata": {},
     "output_type": "execute_result"
    },
    {
     "data": {
      "image/png": "[encoded data removed]",
      "text/plain": [
       "<Figure size 864x432 with 1 Axes>"
      ]
     },
     "metadata": {
      "needs_background": "light"
     },
     "output_type": "display_data"
    }
   ],
   "source": [
    "data2.groupby('cluster')[data1.columns].mean().plot.bar(figsize=(12,6))"
   ]
  },
  {
   "cell_type": "code",
   "execution_count": 17,
   "metadata": {},
   "outputs": [],
   "source": [
    "from sklearn.preprocessing import scale\n",
    "data1sc = scale(data1)"
   ]
  },
  {
   "cell_type": "code",
   "execution_count": 18,
   "metadata": {},
   "outputs": [
    {
     "name": "stderr",
     "output_type": "stream",
     "text": [
      "C:\\Users\\risha\\anaconda3\\lib\\site-packages\\sklearn\\cluster\\_kmeans.py:1036: UserWarning: KMeans is known to have a memory leak on Windows with MKL, when there are less chunks than available threads. You can avoid it by setting the environment variable OMP_NUM_THREADS=4.\n",
      "  warnings.warn(\n"
     ]
    }
   ],
   "source": [
    "ine = []\n",
    "for i in range(1,100):\n",
    "    km = KMeans(n_clusters=i)\n",
    "    km.fit(data1sc)\n",
    "    ine.append(km.inertia_)"
   ]
  },
  {
   "cell_type": "code",
   "execution_count": 19,
   "metadata": {},
   "outputs": [
    {
     "data": {
      "image/png": "[encoded data removed]",
      "text/plain": [
       "<Figure size 1080x504 with 1 Axes>"
      ]
     },
     "metadata": {
      "needs_background": "light"
     },
     "output_type": "display_data"
    }
   ],
   "source": [
    "ks = range(1,50)\n",
    "plt.figure(figsize=(15,7))\n",
    "plt.plot(ks, ine[:49], '-o')\n",
    "plt.xlabel('number of clusters, k')\n",
    "plt.ylabel('inertia')\n",
    "plt.xticks(ks)\n",
    "plt.show()"
   ]
  },
  {
   "cell_type": "code",
   "execution_count": 20,
   "metadata": {},
   "outputs": [
    {
     "data": {
      "text/plain": [
       "KMeans()"
      ]
     },
     "execution_count": 20,
     "metadata": {},
     "output_type": "execute_result"
    }
   ],
   "source": [
    "km = KMeans(n_clusters=8)\n",
    "km.fit(data1sc)"
   ]
  },
  {
   "cell_type": "code",
   "execution_count": 21,
   "metadata": {},
   "outputs": [],
   "source": [
    "data2 = data1.copy()\n",
    "data2['cluster'] = km.predict(data1sc)"
   ]
  },
  {
   "cell_type": "code",
   "execution_count": 22,
   "metadata": {},
   "outputs": [
    {
     "data": {
      "text/plain": [
       "0    201\n",
       "2    190\n",
       "1    144\n",
       "3    129\n",
       "5    120\n",
       "6     89\n",
       "7     87\n",
       "4     20\n",
       "Name: cluster, dtype: int64"
      ]
     },
     "execution_count": 22,
     "metadata": {},
     "output_type": "execute_result"
    }
   ],
   "source": [
    "data2.cluster.value_counts()"
   ]
  },
  {
   "cell_type": "code",
   "execution_count": 23,
   "metadata": {},
   "outputs": [
    {
     "data": {
      "text/plain": [
       "cluster\n",
       "0    0.904293\n",
       "1    1.271022\n",
       "2    1.056211\n",
       "3    1.404219\n",
       "4    1.457357\n",
       "5    1.163988\n",
       "6    1.068250\n",
       "7    1.489672\n",
       "dtype: float64"
      ]
     },
     "execution_count": 23,
     "metadata": {},
     "output_type": "execute_result"
    }
   ],
   "source": [
    "data2.groupby('cluster')[data1.columns].mean().mean(1)"
   ]
  },
  {
   "cell_type": "code",
   "execution_count": 24,
   "metadata": {},
   "outputs": [
    {
     "data": {
      "text/plain": [
       "<AxesSubplot:xlabel='cluster'>"
      ]
     },
     "execution_count": 24,
     "metadata": {},
     "output_type": "execute_result"
    },
    {
     "data": {
      "image/png": "[encoded data removed]",
      "text/plain": [
       "<Figure size 864x432 with 1 Axes>"
      ]
     },
     "metadata": {
      "needs_background": "light"
     },
     "output_type": "display_data"
    }
   ],
   "source": [
    "data2.groupby('cluster')[data1.columns].mean().plot.bar(figsize=(12,6))"
   ]
  },
  {
   "cell_type": "code",
   "execution_count": 25,
   "metadata": {
    "scrolled": true
   },
   "outputs": [
    {
     "data": {
      "text/html": [
       "<div>\n",
       "<style scoped>\n",
       "    .dataframe tbody tr th:only-of-type {\n",
       "        vertical-align: middle;\n",
       "    }\n",
       "\n",
       "    .dataframe tbody tr th {\n",
       "        vertical-align: top;\n",
       "    }\n",
       "\n",
       "    .dataframe thead th {\n",
       "        text-align: right;\n",
       "    }\n",
       "</style>\n",
       "<table border=\"1\" class=\"dataframe\">\n",
       "  <thead>\n",
       "    <tr style=\"text-align: right;\">\n",
       "      <th></th>\n",
       "      <th>art_galleries</th>\n",
       "      <th>dance_clubs</th>\n",
       "      <th>juice_bars</th>\n",
       "      <th>restaurants</th>\n",
       "      <th>museums</th>\n",
       "      <th>resorts</th>\n",
       "      <th>theaters</th>\n",
       "      <th>cluster</th>\n",
       "    </tr>\n",
       "    <tr>\n",
       "      <th>User ID</th>\n",
       "      <th></th>\n",
       "      <th></th>\n",
       "      <th></th>\n",
       "      <th></th>\n",
       "      <th></th>\n",
       "      <th></th>\n",
       "      <th></th>\n",
       "      <th></th>\n",
       "    </tr>\n",
       "  </thead>\n",
       "  <tbody>\n",
       "    <tr>\n",
       "      <th>User 11</th>\n",
       "      <td>1.47</td>\n",
       "      <td>1.00</td>\n",
       "      <td>0.70</td>\n",
       "      <td>0.75</td>\n",
       "      <td>1.66</td>\n",
       "      <td>2.76</td>\n",
       "      <td>1.66</td>\n",
       "      <td>3</td>\n",
       "    </tr>\n",
       "    <tr>\n",
       "      <th>User 15</th>\n",
       "      <td>0.96</td>\n",
       "      <td>1.68</td>\n",
       "      <td>2.29</td>\n",
       "      <td>0.51</td>\n",
       "      <td>1.20</td>\n",
       "      <td>2.84</td>\n",
       "      <td>2.02</td>\n",
       "      <td>3</td>\n",
       "    </tr>\n",
       "    <tr>\n",
       "      <th>User 19</th>\n",
       "      <td>0.67</td>\n",
       "      <td>1.36</td>\n",
       "      <td>1.36</td>\n",
       "      <td>0.38</td>\n",
       "      <td>0.82</td>\n",
       "      <td>3.38</td>\n",
       "      <td>1.79</td>\n",
       "      <td>3</td>\n",
       "    </tr>\n",
       "    <tr>\n",
       "      <th>User 27</th>\n",
       "      <td>0.77</td>\n",
       "      <td>1.68</td>\n",
       "      <td>2.24</td>\n",
       "      <td>0.75</td>\n",
       "      <td>1.28</td>\n",
       "      <td>2.64</td>\n",
       "      <td>1.34</td>\n",
       "      <td>3</td>\n",
       "    </tr>\n",
       "    <tr>\n",
       "      <th>User 30</th>\n",
       "      <td>0.64</td>\n",
       "      <td>1.16</td>\n",
       "      <td>3.12</td>\n",
       "      <td>0.45</td>\n",
       "      <td>1.84</td>\n",
       "      <td>3.16</td>\n",
       "      <td>1.54</td>\n",
       "      <td>3</td>\n",
       "    </tr>\n",
       "    <tr>\n",
       "      <th>...</th>\n",
       "      <td>...</td>\n",
       "      <td>...</td>\n",
       "      <td>...</td>\n",
       "      <td>...</td>\n",
       "      <td>...</td>\n",
       "      <td>...</td>\n",
       "      <td>...</td>\n",
       "      <td>...</td>\n",
       "    </tr>\n",
       "    <tr>\n",
       "      <th>User 941</th>\n",
       "      <td>1.22</td>\n",
       "      <td>1.00</td>\n",
       "      <td>1.57</td>\n",
       "      <td>0.46</td>\n",
       "      <td>0.74</td>\n",
       "      <td>2.54</td>\n",
       "      <td>1.95</td>\n",
       "      <td>3</td>\n",
       "    </tr>\n",
       "    <tr>\n",
       "      <th>User 950</th>\n",
       "      <td>0.83</td>\n",
       "      <td>1.72</td>\n",
       "      <td>1.42</td>\n",
       "      <td>0.95</td>\n",
       "      <td>1.34</td>\n",
       "      <td>2.28</td>\n",
       "      <td>1.60</td>\n",
       "      <td>3</td>\n",
       "    </tr>\n",
       "    <tr>\n",
       "      <th>User 957</th>\n",
       "      <td>0.86</td>\n",
       "      <td>1.80</td>\n",
       "      <td>1.33</td>\n",
       "      <td>0.57</td>\n",
       "      <td>1.38</td>\n",
       "      <td>2.62</td>\n",
       "      <td>1.54</td>\n",
       "      <td>3</td>\n",
       "    </tr>\n",
       "    <tr>\n",
       "      <th>User 966</th>\n",
       "      <td>0.64</td>\n",
       "      <td>0.96</td>\n",
       "      <td>0.22</td>\n",
       "      <td>0.38</td>\n",
       "      <td>1.74</td>\n",
       "      <td>2.26</td>\n",
       "      <td>1.79</td>\n",
       "      <td>3</td>\n",
       "    </tr>\n",
       "    <tr>\n",
       "      <th>User 980</th>\n",
       "      <td>0.93</td>\n",
       "      <td>0.56</td>\n",
       "      <td>1.13</td>\n",
       "      <td>0.51</td>\n",
       "      <td>1.34</td>\n",
       "      <td>2.36</td>\n",
       "      <td>1.34</td>\n",
       "      <td>3</td>\n",
       "    </tr>\n",
       "  </tbody>\n",
       "</table>\n",
       "<p>129 rows × 8 columns</p>\n",
       "</div>"
      ],
      "text/plain": [
       "          art_galleries  dance_clubs  juice_bars  restaurants  museums  \\\n",
       "User ID                                                                  \n",
       "User 11            1.47         1.00        0.70         0.75     1.66   \n",
       "User 15            0.96         1.68        2.29         0.51     1.20   \n",
       "User 19            0.67         1.36        1.36         0.38     0.82   \n",
       "User 27            0.77         1.68        2.24         0.75     1.28   \n",
       "User 30            0.64         1.16        3.12         0.45     1.84   \n",
       "...                 ...          ...         ...          ...      ...   \n",
       "User 941           1.22         1.00        1.57         0.46     0.74   \n",
       "User 950           0.83         1.72        1.42         0.95     1.34   \n",
       "User 957           0.86         1.80        1.33         0.57     1.38   \n",
       "User 966           0.64         0.96        0.22         0.38     1.74   \n",
       "User 980           0.93         0.56        1.13         0.51     1.34   \n",
       "\n",
       "          resorts  theaters  cluster  \n",
       "User ID                               \n",
       "User 11      2.76      1.66        3  \n",
       "User 15      2.84      2.02        3  \n",
       "User 19      3.38      1.79        3  \n",
       "User 27      2.64      1.34        3  \n",
       "User 30      3.16      1.54        3  \n",
       "...           ...       ...      ...  \n",
       "User 941     2.54      1.95        3  \n",
       "User 950     2.28      1.60        3  \n",
       "User 957     2.62      1.54        3  \n",
       "User 966     2.26      1.79        3  \n",
       "User 980     2.36      1.34        3  \n",
       "\n",
       "[129 rows x 8 columns]"
      ]
     },
     "execution_count": 25,
     "metadata": {},
     "output_type": "execute_result"
    }
   ],
   "source": [
    "data2[data2.cluster==3]"
   ]
  },
  {
   "cell_type": "code",
   "execution_count": 26,
   "metadata": {
    "scrolled": true
   },
   "outputs": [],
   "source": [
    "d2 = data2[data2.cluster==3]"
   ]
  },
  {
   "cell_type": "code",
   "execution_count": 27,
   "metadata": {},
   "outputs": [
    {
     "data": {
      "text/html": [
       "<div>\n",
       "<style scoped>\n",
       "    .dataframe tbody tr th:only-of-type {\n",
       "        vertical-align: middle;\n",
       "    }\n",
       "\n",
       "    .dataframe tbody tr th {\n",
       "        vertical-align: top;\n",
       "    }\n",
       "\n",
       "    .dataframe thead th {\n",
       "        text-align: right;\n",
       "    }\n",
       "</style>\n",
       "<table border=\"1\" class=\"dataframe\">\n",
       "  <thead>\n",
       "    <tr style=\"text-align: right;\">\n",
       "      <th></th>\n",
       "      <th>art_galleries</th>\n",
       "      <th>dance_clubs</th>\n",
       "      <th>juice_bars</th>\n",
       "      <th>restaurants</th>\n",
       "      <th>museums</th>\n",
       "      <th>resorts</th>\n",
       "      <th>theaters</th>\n",
       "      <th>cluster</th>\n",
       "    </tr>\n",
       "    <tr>\n",
       "      <th>User ID</th>\n",
       "      <th></th>\n",
       "      <th></th>\n",
       "      <th></th>\n",
       "      <th></th>\n",
       "      <th></th>\n",
       "      <th></th>\n",
       "      <th></th>\n",
       "      <th></th>\n",
       "    </tr>\n",
       "  </thead>\n",
       "  <tbody>\n",
       "  </tbody>\n",
       "</table>\n",
       "</div>"
      ],
      "text/plain": [
       "Empty DataFrame\n",
       "Columns: [art_galleries, dance_clubs, juice_bars, restaurants, museums, resorts, theaters, cluster]\n",
       "Index: []"
      ]
     },
     "execution_count": 27,
     "metadata": {},
     "output_type": "execute_result"
    }
   ],
   "source": [
    "d2[d2.index.isin(['User 979', 'User 385', 'User 324', 'User 542'])]"
   ]
  },
  {
   "cell_type": "code",
   "execution_count": 52,
   "metadata": {},
   "outputs": [
    {
     "data": {
      "text/plain": [
       "DBSCAN(eps=1, min_samples=4)"
      ]
     },
     "execution_count": 52,
     "metadata": {},
     "output_type": "execute_result"
    }
   ],
   "source": [
    "from sklearn.cluster import DBSCAN\n",
    "dbscan = DBSCAN(eps=1,min_samples=4)\n",
    "dbscan.fit(data2)"
   ]
  },
  {
   "cell_type": "code",
   "execution_count": 53,
   "metadata": {},
   "outputs": [
    {
     "data": {
      "text/plain": [
       "array([ 0,  0,  1,  2,  3,  2,  3,  2,  3,  4,  5,  0,  6,  4,  5,  0,  2,\n",
       "        6,  5,  6,  3,  3,  3,  2,  4,  0,  5,  3,  2,  5,  6,  0,  0,  4,\n",
       "        4,  2,  2,  4,  6,  1,  3,  2,  3,  4,  4,  1,  4,  3,  0,  6,  3,\n",
       "        6,  5,  3,  2,  2,  6,  3,  5,  5,  0,  1,  2,  2,  1,  1,  6,  3,\n",
       "        6,  2,  1,  6,  4,  6,  1,  0,  1,  6,  2,  3,  1,  4, -1,  1,  1,\n",
       "        2,  2,  2,  7,  2,  1,  2,  0,  5,  0,  3,  6,  6,  6,  4,  3,  2,\n",
       "        0,  2,  1,  6,  5,  2, -1,  0,  4,  6,  4,  6,  6,  3,  4,  4,  4,\n",
       "        3,  0,  3,  0,  1,  6,  2,  2,  3,  3,  3,  6,  5,  5,  5,  4,  5,\n",
       "        6,  6,  3,  2,  3,  2,  3,  4,  4,  0,  5,  5,  5,  5,  3,  3,  2,\n",
       "        3,  2,  4,  3,  1,  0,  2,  6,  4,  4,  2,  3,  2,  6,  4,  6,  2,\n",
       "        4,  1,  2,  2,  3,  3,  3,  2,  3,  2,  2,  5,  3,  1,  5,  4,  3,\n",
       "        1,  5,  2,  6,  6,  1,  4,  3,  3,  2,  5,  2,  7,  5,  3,  6,  2,\n",
       "        3,  2,  3,  2,  6,  3,  3,  6,  3,  2,  2,  5,  2,  2,  5,  6,  5,\n",
       "        1,  0,  2,  5,  3,  7,  6,  0,  6,  4,  5,  2,  2,  5,  3,  5,  3,\n",
       "        3,  1,  6,  0,  4,  4,  4,  2,  1, -1,  3,  3,  6,  2,  6,  6,  2,\n",
       "        4,  3,  7,  1,  6,  3,  5,  1,  4,  3,  5,  5,  0,  4,  5,  3,  2,\n",
       "        6,  6, -1,  3,  6,  4,  2,  3,  6,  3,  6,  5,  3,  2, -1,  4,  3,\n",
       "        3,  5,  2,  2,  2,  2,  2,  3,  6,  1,  4,  2,  6,  6,  2,  5,  2,\n",
       "        5,  5,  1,  6,  4,  2,  6,  5,  4,  4,  5,  3,  6,  2,  3,  4, -1,\n",
       "        2,  2,  5,  4,  5,  0,  3,  4,  6,  1,  3,  2,  5,  6,  2,  5,  1,\n",
       "        0,  4,  6,  6,  3,  2,  4,  4,  6,  5,  1,  2,  5,  2,  2,  2,  3,\n",
       "        2,  4,  1,  2,  5,  0,  2,  0,  0,  4,  3,  6,  3,  6,  6, -1,  5,\n",
       "        4,  0,  5,  0,  2,  4,  2,  2,  3,  2,  2,  5,  0,  3,  2,  2,  0,\n",
       "        2,  0,  2,  1,  6,  3,  1,  2,  4,  3,  6,  4,  2,  0,  0,  6,  5,\n",
       "        0,  5,  3,  0,  0,  0,  4,  6,  2,  2,  3,  5,  6,  4,  7,  2,  3,\n",
       "        1,  0,  4,  2,  3,  6,  5,  0,  0,  0,  2,  3, -1,  3,  3,  2,  2,\n",
       "        3,  5,  6,  1,  0,  6,  5,  3,  4,  2,  4,  5,  1,  3,  3,  2,  5,\n",
       "        2,  3,  3,  3,  6,  1,  6,  1,  2,  1,  3,  6,  3,  2,  3,  6,  1,\n",
       "        6,  2,  5,  5,  4,  6,  1,  0,  5,  2,  3,  5,  3,  4,  1,  3,  2,\n",
       "        0,  4,  3,  3,  6,  6,  3,  0, -1,  6,  4,  3, -1,  4,  5,  5,  2,\n",
       "        5,  2,  2,  0,  3,  6,  1,  6,  3,  3,  2,  5,  6,  3,  5,  5,  5,\n",
       "        3,  1,  2,  3,  1,  4,  6,  6,  6,  0,  6,  5,  4,  3,  1,  4,  3,\n",
       "        3,  0,  3,  2,  0,  3,  4,  5,  4,  1,  0,  6,  2,  4,  4,  3,  6,\n",
       "        6,  6,  6,  3,  5,  6,  6,  0,  3,  0,  2,  6,  4,  5,  5,  3,  2,\n",
       "        2,  3,  3,  5,  3,  2,  3,  1,  2,  2,  6,  0,  3,  3, -1,  0,  1,\n",
       "        1,  3,  3,  6,  0,  2, -1,  0,  2,  5,  3,  3,  1, -1,  2,  6,  5,\n",
       "        3,  4,  1,  3,  3,  1,  3,  2,  4,  0,  4,  4,  2,  1,  5,  6,  2,\n",
       "        4,  4,  1,  2,  5,  2,  6,  5,  1,  3,  2,  1, -1,  0,  2,  0,  2,\n",
       "        4,  2,  4,  0,  4,  2,  2,  2,  6,  5,  3,  5,  2,  3,  6,  1,  6,\n",
       "        3,  2,  1, -1,  5,  2,  3,  1,  5,  1,  2,  3,  4,  2,  1,  1,  3,\n",
       "        3,  4,  5,  4,  0,  6,  4,  3,  2,  4,  3,  3,  2,  2, -1,  5,  0,\n",
       "        1,  2,  2,  2,  0,  0,  3,  1,  2,  4,  5,  1,  2,  5,  4,  1,  3,\n",
       "        4,  2,  2,  6,  6,  6,  4,  2,  5,  1,  2,  0,  4,  4,  7,  5,  3,\n",
       "        3,  1,  6,  2,  3,  4,  5,  5,  3,  0,  5,  3,  3,  2,  0,  4,  7,\n",
       "        2,  3,  5,  2,  5,  3,  0,  4,  1,  2,  2,  1,  5,  3,  3,  3,  5,\n",
       "        2,  2,  5,  5,  1,  3,  2,  4,  2,  4,  5,  3,  5,  1,  2,  5,  6,\n",
       "        3,  2,  2,  6,  6,  2,  3,  5,  6,  6,  0,  1,  3, -1,  2,  2,  6,\n",
       "        6,  2,  5,  6,  1,  5,  0,  3,  6,  0,  0,  5,  5, -1,  3,  4,  6,\n",
       "        6,  2,  6,  6,  5,  4,  3,  5,  3,  2,  6,  4,  6, -1,  4,  4,  3,\n",
       "        2,  6,  6,  5,  3,  2,  3,  3,  2,  6,  2,  2,  6,  3,  3,  2,  2,\n",
       "        4,  0,  4,  5,  0,  1,  5,  4,  3,  6,  6,  3,  6,  4,  4,  2,  6,\n",
       "       -1,  2,  1,  5,  2,  1,  2,  4,  3,  0,  1,  3,  5,  4,  2,  0,  6,\n",
       "        5,  6,  4,  2,  0,  2,  3,  3,  6,  2,  4,  4,  5,  4,  2,  2,  4,\n",
       "        6,  4,  7,  6,  1,  2,  6,  3,  3,  2,  5,  4,  6,  3, -1,  5,  3,\n",
       "        2,  2,  5,  2,  3,  6,  6,  6,  0,  2,  3,  4,  3,  6,  3,  4,  2,\n",
       "        2,  4,  5,  5,  5,  5,  2,  6,  3,  4,  3,  3,  2,  0,  5,  2,  6,\n",
       "        0,  1,  1,  6,  5,  1,  2,  1,  6,  3,  4,  6,  3,  5,  0,  2,  3,\n",
       "        2,  3,  4, -1,  3,  0,  3,  1,  3,  2,  5], dtype=int64)"
      ]
     },
     "execution_count": 53,
     "metadata": {},
     "output_type": "execute_result"
    }
   ],
   "source": [
    "clusters = dbscan.labels_\n",
    "clusters"
   ]
  },
  {
   "cell_type": "code",
   "execution_count": 54,
   "metadata": {},
   "outputs": [
    {
     "data": {
      "text/plain": [
       "9"
      ]
     },
     "execution_count": 54,
     "metadata": {},
     "output_type": "execute_result"
    }
   ],
   "source": [
    "len(set(clusters))"
   ]
  },
  {
   "cell_type": "code",
   "execution_count": 55,
   "metadata": {},
   "outputs": [
    {
     "data": {
      "text/plain": [
       "0.43999455150260686"
      ]
     },
     "execution_count": 55,
     "metadata": {},
     "output_type": "execute_result"
    }
   ],
   "source": [
    "from sklearn.metrics import silhouette_score\n",
    "silhouette_score(data2,clusters)"
   ]
  },
  {
   "cell_type": "code",
   "execution_count": 56,
   "metadata": {},
   "outputs": [
    {
     "data": {
      "text/plain": [
       "(980, 2)"
      ]
     },
     "execution_count": 56,
     "metadata": {},
     "output_type": "execute_result"
    }
   ],
   "source": [
    "from sklearn.decomposition import PCA\n",
    "import numpy as np\n",
    "pca = PCA(2)\n",
    "\n",
    "#transform the data\n",
    "df = pca.fit_transform(data2)\n",
    "df.shape"
   ]
  },
  {
   "cell_type": "code",
   "execution_count": 59,
   "metadata": {},
   "outputs": [
    {
     "data": {
      "text/html": [
       "<div>\n",
       "<style scoped>\n",
       "    .dataframe tbody tr th:only-of-type {\n",
       "        vertical-align: middle;\n",
       "    }\n",
       "\n",
       "    .dataframe tbody tr th {\n",
       "        vertical-align: top;\n",
       "    }\n",
       "\n",
       "    .dataframe thead th {\n",
       "        text-align: right;\n",
       "    }\n",
       "</style>\n",
       "<table border=\"1\" class=\"dataframe\">\n",
       "  <thead>\n",
       "    <tr style=\"text-align: right;\">\n",
       "      <th></th>\n",
       "      <th>Plane-I</th>\n",
       "      <th>Plane-II</th>\n",
       "      <th>label</th>\n",
       "    </tr>\n",
       "  </thead>\n",
       "  <tbody>\n",
       "    <tr>\n",
       "      <th>0</th>\n",
       "      <td>4.279681</td>\n",
       "      <td>1.075026</td>\n",
       "      <td>7</td>\n",
       "    </tr>\n",
       "    <tr>\n",
       "      <th>1</th>\n",
       "      <td>4.409803</td>\n",
       "      <td>1.836639</td>\n",
       "      <td>7</td>\n",
       "    </tr>\n",
       "    <tr>\n",
       "      <th>2</th>\n",
       "      <td>3.089188</td>\n",
       "      <td>-0.908599</td>\n",
       "      <td>6</td>\n",
       "    </tr>\n",
       "    <tr>\n",
       "      <th>3</th>\n",
       "      <td>-2.830931</td>\n",
       "      <td>-0.683436</td>\n",
       "      <td>0</td>\n",
       "    </tr>\n",
       "    <tr>\n",
       "      <th>4</th>\n",
       "      <td>-0.787798</td>\n",
       "      <td>0.429475</td>\n",
       "      <td>2</td>\n",
       "    </tr>\n",
       "  </tbody>\n",
       "</table>\n",
       "</div>"
      ],
      "text/plain": [
       "    Plane-I  Plane-II  label\n",
       "0  4.279681  1.075026      7\n",
       "1  4.409803  1.836639      7\n",
       "2  3.089188 -0.908599      6\n",
       "3 -2.830931 -0.683436      0\n",
       "4 -0.787798  0.429475      2"
      ]
     },
     "execution_count": 59,
     "metadata": {},
     "output_type": "execute_result"
    }
   ],
   "source": [
    "df_final = pd.DataFrame(df,columns=['Plane-I','Plane-II'])\n",
    "df_final['label']=data2['cluster'].tolist()\n",
    "df_final.head()"
   ]
  },
  {
   "cell_type": "code",
   "execution_count": 63,
   "metadata": {},
   "outputs": [
    {
     "data": {
      "text/plain": [
       "<matplotlib.collections.PathCollection at 0x21abab7eee0>"
      ]
     },
     "execution_count": 63,
     "metadata": {},
     "output_type": "execute_result"
    },
    {
     "data": {
      "image/png": "[encoded data removed]",
      "text/plain": [
       "<Figure size 432x288 with 1 Axes>"
      ]
     },
     "metadata": {
      "needs_background": "light"
     },
     "output_type": "display_data"
    }
   ],
   "source": [
    "#filter rows of orignal state\n",
    "filtered_labels0 = df_final[df_final['label'] == 0]\n",
    "\n",
    "filtered_labels1 = df_final[df_final['label'] == 1]\n",
    "\n",
    "filtered_labels2 = df_final[df_final['label'] == 2]\n",
    "\n",
    "filtered_labels3 = df_final[df_final['label'] == 3]\n",
    "\n",
    "#plotting the results\n",
    "plt.scatter(filtered_labels0['Plane-I'], filtered_labels0['Plane-II'], color='red')\n",
    "plt.scatter(filtered_labels1['Plane-I'], filtered_labels1['Plane-II'], color='black')\n",
    "plt.scatter(filtered_labels2['Plane-I'], filtered_labels2['Plane-II'], color='green')\n",
    "plt.scatter(filtered_labels3['Plane-I'], filtered_labels3['Plane-II'], color='blue')"
   ]
  },
  {
   "cell_type": "code",
   "execution_count": null,
   "metadata": {},
   "outputs": [],
   "source": []
  }
 ],
 "metadata": {
  "kernelspec": {
   "display_name": "Python 3 (ipykernel)",
   "language": "python",
   "name": "python3"
  },
  "language_info": {
   "codemirror_mode": {
    "name": "ipython",
    "version": 3
   },
   "file_extension": ".py",
   "mimetype": "text/x-python",
   "name": "python",
   "nbconvert_exporter": "python",
   "pygments_lexer": "ipython3",
   "version": "3.9.7"
  }
 },
 "nbformat": 4,
 "nbformat_minor": 2
}
